{
 "cells": [
  {
   "cell_type": "markdown",
   "id": "c761aa6c",
   "metadata": {},
   "source": [
    "This script grabs data from NASA's ISS passing site. The R script takes over then.     \n",
    "\n",
    "Issue is page has to be checked manually, no API.    \n",
    "\n",
    "top page (search 'ISS'): https://nasa.github.io/data-nasa-gov-frontpage/#:~:text=DATA.NASA.GOV%20is%20NASA's,on%20data.nasa.gov"
   ]
  },
  {
   "cell_type": "code",
   "execution_count": 26,
   "id": "bfb36dcb",
   "metadata": {},
   "outputs": [
    {
     "name": "stdout",
     "output_type": "stream",
     "text": [
      "2022-01-03/\n"
     ]
    }
   ],
   "source": [
    "# set the URL base\n",
    "url_base = \"https://nasa-public-data.s3.amazonaws.com/iss-coords/\"\n",
    "\n",
    "# set the date, note the necessary slash for date assembly  -- this has to be checked manually but maybe could fix that?\n",
    "date = \"2022-01-03/\"\n",
    "\n",
    "print(date)"
   ]
  },
  {
   "cell_type": "code",
   "execution_count": 27,
   "id": "221639e1",
   "metadata": {},
   "outputs": [],
   "source": [
    "# set suffixes for the URLs\n",
    "\n",
    "int1_suffix = \"ISS_sightings/XMLsightingData_citiesINT01.xml\"\n",
    "int2_suffix = \"ISS_sightings/XMLsightingData_citiesINT02.xml\"\n",
    "int3_suffix = \"ISS_sightings/XMLsightingData_citiesINT03.xml\"\n",
    "int4_suffix = \"ISS_sightings/XMLsightingData_citiesINT04.xml\"\n",
    "int5_suffix = \"ISS_sightings/XMLsightingData_citiesINT05.xml\"\n",
    "\n",
    "us1_suffix = \"ISS_sightings/XMLsightingData_citiesUSA01.xml\"\n",
    "us2_suffix = \"ISS_sightings/XMLsightingData_citiesUSA02.xml\"\n",
    "us3_suffix = \"ISS_sightings/XMLsightingData_citiesUSA03.xml\"\n",
    "us4_suffix = \"ISS_sightings/XMLsightingData_citiesUSA04.xml\"\n",
    "us5_suffix = \"ISS_sightings/XMLsightingData_citiesUSA05.xml\"\n",
    "us6_suffix = \"ISS_sightings/XMLsightingData_citiesUSA06.xml\"\n",
    "us7_suffix = \"ISS_sightings/XMLsightingData_citiesUSA07.xml\"\n",
    "us8_suffix = \"ISS_sightings/XMLsightingData_citiesUSA08.xml\"\n",
    "us9_suffix = \"ISS_sightings/XMLsightingData_citiesUSA09.xml\"\n",
    "us10_suffix = \"ISS_sightings/XMLsightingData_citiesUSA10.xml\"\n",
    "us11_suffix = \"ISS_sightings/XMLsightingData_citiesUSA11.xml\"\n",
    "\n"
   ]
  },
  {
   "cell_type": "code",
   "execution_count": 28,
   "id": "0527424f",
   "metadata": {},
   "outputs": [],
   "source": [
    "import os\n",
    "mydir = os.getcwd() # set working dir for use in wget.download()\n",
    "\n",
    "import wget # for downloading files from web\n"
   ]
  },
  {
   "cell_type": "code",
   "execution_count": 29,
   "id": "accd31f7",
   "metadata": {},
   "outputs": [
    {
     "data": {
      "text/plain": [
       "'/Users/jroby/Documents/editorial/Rprojects/iss xml work/XMLsightingData_citiesUSA11.xml'"
      ]
     },
     "execution_count": 29,
     "metadata": {},
     "output_type": "execute_result"
    }
   ],
   "source": [
    "# download them \n",
    "\n",
    "# int cities\n",
    "wget.download((url_base + date + int1_suffix), mydir) \n",
    "wget.download((url_base + date + int2_suffix), mydir) \n",
    "wget.download((url_base + date + int3_suffix), mydir) \n",
    "wget.download((url_base + date + int4_suffix), mydir) \n",
    "wget.download((url_base + date + int5_suffix), mydir) \n",
    "\n",
    "# us cities\n",
    "wget.download((url_base + date + us1_suffix), mydir) \n",
    "wget.download((url_base + date + us2_suffix), mydir) \n",
    "wget.download((url_base + date + us3_suffix), mydir) \n",
    "wget.download((url_base + date + us4_suffix), mydir) \n",
    "wget.download((url_base + date + us5_suffix), mydir) \n",
    "wget.download((url_base + date + us6_suffix), mydir) \n",
    "wget.download((url_base + date + us7_suffix), mydir) \n",
    "wget.download((url_base + date + us8_suffix), mydir) \n",
    "wget.download((url_base + date + us9_suffix), mydir) \n",
    "wget.download((url_base + date + us10_suffix), mydir) \n",
    "wget.download((url_base + date + us11_suffix), mydir) "
   ]
  },
  {
   "cell_type": "code",
   "execution_count": null,
   "id": "90cb889f",
   "metadata": {},
   "outputs": [],
   "source": []
  },
  {
   "cell_type": "code",
   "execution_count": null,
   "id": "887a7b7e",
   "metadata": {},
   "outputs": [],
   "source": []
  }
 ],
 "metadata": {
  "kernelspec": {
   "display_name": "Python 3",
   "language": "python",
   "name": "python3"
  },
  "language_info": {
   "codemirror_mode": {
    "name": "ipython",
    "version": 3
   },
   "file_extension": ".py",
   "mimetype": "text/x-python",
   "name": "python",
   "nbconvert_exporter": "python",
   "pygments_lexer": "ipython3",
   "version": "3.8.8"
  },
  "toc": {
   "base_numbering": 1,
   "nav_menu": {},
   "number_sections": true,
   "sideBar": true,
   "skip_h1_title": false,
   "title_cell": "Table of Contents",
   "title_sidebar": "Contents",
   "toc_cell": false,
   "toc_position": {},
   "toc_section_display": true,
   "toc_window_display": false
  }
 },
 "nbformat": 4,
 "nbformat_minor": 5
}
